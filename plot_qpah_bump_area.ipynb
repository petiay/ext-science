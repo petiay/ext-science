{
 "cells": [
  {
   "cell_type": "code",
   "execution_count": 5,
   "id": "f0dfcc71-b7a1-4eb1-93ba-d2fc02830853",
   "metadata": {},
   "outputs": [],
   "source": [
    "import numpy as np\n",
    "import matplotlib.pyplot as plt\n",
    "from scipy.stats import linregress"
   ]
  },
  {
   "cell_type": "markdown",
   "id": "aa9f3397-9b6d-4874-9be7-6de4aa566cf9",
   "metadata": {},
   "source": [
    "### Get quantities"
   ]
  },
  {
   "cell_type": "code",
   "execution_count": 4,
   "id": "1e265d50-2c19-4360-bc18-32ea0981b68f",
   "metadata": {},
   "outputs": [
    {
     "data": {
      "text/plain": [
       "[<matplotlib.lines.Line2D at 0x115a8ad30>]"
      ]
     },
     "execution_count": 4,
     "metadata": {},
     "output_type": "execute_result"
    },
    {
     "data": {
      "image/png": "[encoded data removed]",
      "text/plain": [
       "<Figure size 640x480 with 1 Axes>"
      ]
     },
     "metadata": {},
     "output_type": "display_data"
    }
   ],
   "source": [
    "gamma = [.74, .73, .91, 1.08, 1, .84, 1.06, 1.1, .8, .74, .75, 1.26, .88, 1.09, 1.1, .9, 1.13]\n",
    "c3=[1.55, 1.084, 2.37, 3.6, 2.8, 2.58, 4.29, 5.3, 1.9, 2, 1.85, 4.4, 3, 4.75, 4.6, 2.6, 3.5]\n",
    "qpah_160 = [.038, .041, .039, .046, .033, .042, .052, .047, .045, .051, .047, .04, .035, .034, .041, .045, .043]\n",
    "qpah_160_per = [x*100. for x in qpah_160]\n",
    "\n",
    "# ( [pi * B3 * gamma]/2 ), where B3 = C3/gamma^2\n",
    "pi_c3 = [(3.1415 * x) for x in c3]\n",
    "bump_area = [x/(y*2) for x,y in zip(pi_c3, gamma)]\n",
    "\n",
    "plt.figure()\n",
    "plt.plot(qpah_160_per, bump_area, '.b', label='q_PAH (160um)')\n",
    "\n",
    "line_res = linregress(qpah_160_per, bump_area)\n",
    "slope = np.around(line_res[0], decimals=2)\n",
    "intercept = np.around(line_res[1], decimals=2)\n",
    "\n",
    "x = np.linspace(min(qpah_160_per), max(qpah_160_per), 50)\n",
    "y = slope * x+intercept\n",
    "plt.plot(x,y,'-', c='orange', label='LS, m=%s' % slope)"
   ]
  },
  {
   "cell_type": "code",
   "execution_count": null,
   "id": "d1ebf335-05ea-4dfd-9426-2852888c3442",
   "metadata": {},
   "outputs": [],
   "source": []
  }
 ],
 "metadata": {
  "kernelspec": {
   "display_name": "Python 3 (ipykernel)",
   "language": "python",
   "name": "python3"
  },
  "language_info": {
   "codemirror_mode": {
    "name": "ipython",
    "version": 3
   },
   "file_extension": ".py",
   "mimetype": "text/x-python",
   "name": "python",
   "nbconvert_exporter": "python",
   "pygments_lexer": "ipython3",
   "version": "3.9.20"
  }
 },
 "nbformat": 4,
 "nbformat_minor": 5
}
