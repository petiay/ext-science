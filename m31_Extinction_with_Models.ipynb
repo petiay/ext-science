{
 "cells": [
  {
   "cell_type": "code",
   "execution_count": 1,
   "id": "42b3cd42",
   "metadata": {},
   "outputs": [],
   "source": [
    "import glob\n",
    "import importlib\n",
    "import sys, os\n",
    "\n",
    "import numpy as np\n",
    "import scipy.optimize as op\n",
    "\n",
    "import matplotlib.pyplot as plt\n",
    "import matplotlib as mpl\n",
    "\n",
    "import astropy.units as u\n",
    "\n",
    "import emcee\n",
    "\n",
    "from dust_extinction.averages import G03_SMCBar\n",
    "from dust_extinction.parameter_averages import F19\n",
    "\n",
    "import measure_extinction\n",
    "from measure_extinction.stardata import StarData\n",
    "from measure_extinction.extdata import ExtData\n",
    "from measure_extinction.modeldata import ModelData\n",
    "from measure_extinction.utils.fit_model import FitInfo\n",
    "\n",
    "from measure_extinction.utils.helpers import get_full_starfile\n",
    "from measure_extinction.utils.fit_model import get_best_fit_params, get_percentile_params"
   ]
  },
  {
   "cell_type": "code",
   "execution_count": 59,
   "id": "julian-greensboro",
   "metadata": {},
   "outputs": [],
   "source": [
    "m31_list = [\n",
    "# \"m31_e1_j004354.05+412626.0\",\n",
    "# \"m31_e2_j004413.84+414903.9\",\n",
    "# \"m31_e3_j004420.52+411751.1\",\n",
    "# \"m31_e4_j004427.47+415150.0\",\n",
    "# \"m31_e5_j004431.66+413612.4\",\n",
    "\"m31_e6_j004438.71+415553.5\",\n",
    "# \"m31_e7_j004454.37+412823.9\",\n",
    "# \"m31_e8_j004511.82+415025.3\",\n",
    "# \"m31_e9_j004511.85+413712.9\", # some problem with walkers\n",
    "## \"m31_e10_j004512.73+413726.4\", # No STIS data\n",
    "## \"m31_e11_j004535.40+414431.5\", # No STIS data\n",
    "# \"m31_e12_j004539.00+415439.0\",\n",
    "# \"m31_e13_j004539.70+415054.8\",\n",
    "# \"m31_e14_j004543.46+414513.6\",\n",
    "# \"m31_e15_j004546.81+415431.7\",\n",
    "]"
   ]
  },
  {
   "cell_type": "markdown",
   "id": "8f70bc32",
   "metadata": {},
   "source": [
    "Specify the location of the model and observed data"
   ]
  },
  {
   "cell_type": "code",
   "execution_count": 38,
   "id": "209117e4",
   "metadata": {},
   "outputs": [],
   "source": [
    "file_path = \"/Users/pyanchulova/Documents/extstar_data/\"\n",
    "savefile_path = \"/Users/pyanchulova/Documents/ext-science/figs/\"\n",
    "folder = \"\"\n",
    "\n",
    "if not os.path.isdir(savefile_path + folder):\n",
    "    print(\"making new dir\", (savefile_path + folder))\n",
    "    os.system(\"mkdir \" + savefile_path + folder)\n",
    "\n",
    "# Karl-level STIS data location\n",
    "karl_data_path = \"~/../../user/kgordon/Python_git/extstar_data/STIS_Data/\""
   ]
  },
  {
   "cell_type": "markdown",
   "id": "57beb89f",
   "metadata": {},
   "source": [
    "Define star specific parameters"
   ]
  },
  {
   "cell_type": "code",
   "execution_count": 60,
   "id": "4b7882b1",
   "metadata": {},
   "outputs": [
    {
     "name": "stdout",
     "output_type": "stream",
     "text": [
      "m31_e6_j004438.71+415553.5 e6\n"
     ]
    }
   ],
   "source": [
    "# starname = \"m31_e2_j004413.84+414903.9\"\n",
    "starname = m31_list[0]\n",
    "fstarname = f\"{starname}.dat\"\n",
    "velocity = -109.3 # M31 radial velocity from NED\n",
    "relband = \"ACS_F475W\"\n",
    "relband_str = \"$F475W$\"\n",
    "starstr = starname.split(\"m31_\")[1].split(\"_\")[0]\n",
    "print(starname, starstr)"
   ]
  },
  {
   "cell_type": "markdown",
   "id": "78b14321",
   "metadata": {},
   "source": [
    "Read in the star data"
   ]
  },
  {
   "cell_type": "code",
   "execution_count": 40,
   "id": "9fee49ab",
   "metadata": {},
   "outputs": [],
   "source": [
    "def get_red_star(fstarname, file_path):\n",
    "    \"\"\"\n",
    "    \"\"\"\n",
    "    # get the observed reddened star data\n",
    "    reddened_star = StarData(fstarname, path=f\"{file_path}/DAT_files/\")\n",
    "    band_names = reddened_star.data[\"BAND\"].get_band_names()\n",
    "    data_names = reddened_star.data.keys()\n",
    "    print(\"band names\", band_names)\n",
    "    print(\"data names\", data_names)\n",
    "    print(\"starname\", fstarname)\n",
    "    \n",
    "    return reddened_star, band_names, data_names"
   ]
  },
  {
   "cell_type": "markdown",
   "id": "twelve-offering",
   "metadata": {},
   "source": [
    "### Plot offset spectra"
   ]
  },
  {
   "cell_type": "code",
   "execution_count": 61,
   "id": "modern-thought",
   "metadata": {},
   "outputs": [
    {
     "name": "stdout",
     "output_type": "stream",
     "text": [
      "m31_e6_j004438.71+415553.5\n",
      "band names ['WFC3_F275W', 'WFC3_F336W', 'ACS_F475W', 'ACS_F814W', 'WFC3_F110W', 'WFC3_F160W']\n",
      "data names dict_keys(['BAND', 'STIS'])\n",
      "starname m31_e6_j004438.71+415553.5.dat\n"
     ]
    },
    {
     "data": {
      "image/png": "[encoded data removed]",
      "text/plain": [
       "<Figure size 936x720 with 1 Axes>"
      ]
     },
     "metadata": {
      "needs_background": "light"
     },
     "output_type": "display_data"
    }
   ],
   "source": [
    "fig, ax = plt.subplots(figsize=(13, 10))\n",
    "fontsize=14\n",
    "colors = ['r','gold',#'b','g',\n",
    "          'k','c','magenta','gray',\n",
    "          'lime','tomato','deepskyblue',\n",
    "          'purple',\n",
    "          'deeppink', 'teal', 'darkgray']\n",
    "plot_one=False\n",
    "yoffset=300\n",
    "yot='multiply'\n",
    "for i in range(len(m31_list)):\n",
    "    if plot_one:\n",
    "        fstarname = f\"{starname}.dat\"\n",
    "    else:\n",
    "        starname = m31_list[i]\n",
    "        print(starname)\n",
    "        fstarname = f\"{starname}.dat\"\n",
    "\n",
    "    reddened_star, band_names, data_names = get_red_star(fstarname, file_path)\n",
    "#     print(i, fstarname)\n",
    "    reddened_star.plot(ax, pcolor=colors[i], yoffset=yoffset, yoffset_type=yot)\n",
    "    this_offset = yoffset\n",
    "    yoffset+=np.log(yoffset)\n",
    "ax.set_xscale(\"log\")\n",
    "ax.set_yscale(\"log\")\n",
    "# ax.set_ylim(1e-15, 1e-12)\n",
    "# ax.set_xlim(0.11, 0.33)\n",
    "# ax.set_xlim(0.33, 1.5)\n",
    "ax.set_xlabel(r\"$\\lambda$ [$\\mu m$]\", fontsize=1.3 * fontsize)\n",
    "ax.set_ylabel(r\"$F(\\lambda)$ [$ergs\\ cm^{-2}\\ s\\ \\AA$]\", fontsize=1.3 * fontsize)\n",
    "ax.tick_params(\"both\", length=10, width=2, which=\"major\")\n",
    "ax.tick_params(\"both\", length=5, width=1, which=\"minor\")\n",
    "plt.savefig(savefile_path + starstr + \"_spectra_yoffset_\" + str(this_offset) + \".png\")"
   ]
  },
  {
   "cell_type": "markdown",
   "id": "medieval-boards",
   "metadata": {},
   "source": [
    "## Get reddened star data"
   ]
  },
  {
   "cell_type": "code",
   "execution_count": 62,
   "id": "moderate-philippines",
   "metadata": {},
   "outputs": [
    {
     "name": "stdout",
     "output_type": "stream",
     "text": [
      "band names ['WFC3_F275W', 'WFC3_F336W', 'ACS_F475W', 'ACS_F814W', 'WFC3_F110W', 'WFC3_F160W']\n",
      "data names dict_keys(['BAND', 'STIS'])\n",
      "starname m31_e6_j004438.71+415553.5.dat\n"
     ]
    }
   ],
   "source": [
    "reddened_star, band_names, data_names = get_red_star(fstarname, file_path)"
   ]
  },
  {
   "cell_type": "markdown",
   "id": "5d47d4d3",
   "metadata": {},
   "source": [
    "## Get the model data"
   ]
  },
  {
   "cell_type": "code",
   "execution_count": 63,
   "id": "70cdc247",
   "metadata": {},
   "outputs": [
    {
     "name": "stdout",
     "output_type": "stream",
     "text": [
      "log(Teff) range: 4.176091259055681 4.740362689494244\n",
      "log(g) range: 1.75 4.75\n",
      "log(Z) range: -1.0 0.3010299956639812\n"
     ]
    }
   ],
   "source": [
    "tlusty_models_fullpath = glob.glob(\"{}/Models/tlusty_*v10.dat\".format(file_path))\n",
    "# tlusty_models_fullpath = tlusty_models_fullpath[0:10]\n",
    "tlusty_models = [\n",
    "    tfile[tfile.rfind(\"/\") + 1 : len(tfile)] for tfile in tlusty_models_fullpath\n",
    "]\n",
    "\n",
    "# get the models with just the reddened star band data and spectra\n",
    "modinfo = ModelData(\n",
    "    tlusty_models,\n",
    "    path=\"{}/Models/\".format(file_path),\n",
    "    band_names=band_names,\n",
    "    spectra_names=data_names,\n",
    ")\n",
    "\n",
    "print(\"log(Teff) range:\", modinfo.temps_min, modinfo.temps_max)\n",
    "print(\"log(g) range:\", modinfo.gravs_min, modinfo.gravs_max)\n",
    "print(\"log(Z) range:\", modinfo.mets_min, modinfo.mets_max)"
   ]
  },
  {
   "cell_type": "markdown",
   "id": "jewish-maine",
   "metadata": {},
   "source": [
    "Create the weight arrays based on the observed uncertainties"
   ]
  },
  {
   "cell_type": "code",
   "execution_count": 9,
   "id": "add1c756",
   "metadata": {},
   "outputs": [],
   "source": [
    "def set_weights(data_names, reddened_star):\n",
    "    \"\"\"\n",
    "    \"\"\"\n",
    "    # cropping info for weights\n",
    "    #  bad regions are defined as those where we know the models do not work\n",
    "    #  or the data is bad\n",
    "    # pnames = [\"logT\",\"logg\",\"logZ\",\"Av\",\"Rv\",\"C2\",\"C3\",\"C4\",\"x0\",\"gamma\",\"HI_gal\",\"HI_mw\"]\n",
    "    ex_regions = [\n",
    "        [8.23 - 0.1, 8.23 + 0.1],  # geocoronal line\n",
    "        [8.7, 10.0],  # bad data from STIS\n",
    "        [3.55, 3.6],\n",
    "        [3.80, 3.90],\n",
    "        [4.15, 4.3],\n",
    "        [6.4, 6.6],\n",
    "        [7.1, 7.3],\n",
    "        [7.45, 7.55],\n",
    "        [7.65, 7.75],\n",
    "        [7.9, 7.95],\n",
    "        [8.05, 8.1],\n",
    "    ] / u.micron\n",
    "\n",
    "    weights = {}\n",
    "    for cspec in data_names:\n",
    "        weights[cspec] = np.full(len(reddened_star.data[cspec].fluxes), 0.0)\n",
    "        gvals = reddened_star.data[cspec].npts > 0\n",
    "        # Originally: \n",
    "        # weights[cspec][gvals] = 1.0 / reddened_star.data[cspec].uncs[gvals].value\n",
    "        # New:\n",
    "        weights[cspec][gvals] = 1.0 / reddened_star.data[cspec].uncs[gvals].value\n",
    "\n",
    "        x = 1.0 / reddened_star.data[cspec].waves\n",
    "        for cexreg in ex_regions:\n",
    "            weights[cspec][np.logical_and(x >= cexreg[0], x <= cexreg[1])] = 0.0\n",
    "\n",
    "    # make the photometric bands have higher weight\n",
    "    weights[\"BAND\"] *= 10000.0\n",
    "    print(\"weight arrays set\")\n",
    "    return weights"
   ]
  },
  {
   "cell_type": "markdown",
   "id": "identical-invasion",
   "metadata": {},
   "source": [
    "### Plot the spectra"
   ]
  },
  {
   "cell_type": "code",
   "execution_count": 51,
   "id": "16d1ca7e",
   "metadata": {},
   "outputs": [],
   "source": [
    "def plot_spectra_with_mod(hi_ext_modsed, reddened_star, modesed, ext_modsed, \\\n",
    "                          modsed_stardata, starstr, folder=''):\n",
    "    \"\"\"\n",
    "    \"\"\"\n",
    "    norm_model = np.average(hi_ext_modsed[\"BAND\"])\n",
    "    norm_data = np.average(reddened_star.data[\"BAND\"].fluxes)\n",
    "\n",
    "    # plotting setup for easier to read plots\n",
    "    fontsize = 16\n",
    "    font = {\"size\": fontsize}\n",
    "    mpl.rc(\"font\", **font)\n",
    "    mpl.rc(\"lines\", linewidth=1)\n",
    "    mpl.rc(\"axes\", linewidth=2)\n",
    "    mpl.rc(\"xtick.major\", width=2)\n",
    "    mpl.rc(\"xtick.minor\", width=2)\n",
    "    mpl.rc(\"ytick.major\", width=2)\n",
    "    mpl.rc(\"ytick.minor\", width=2)\n",
    "\n",
    "    # setup the plot\n",
    "    fig, ax = plt.subplots(figsize=(14, 12))\n",
    "\n",
    "    # plot the bands and all spectra for this star\n",
    "    for cspec in modinfo.fluxes.keys():\n",
    "        if cspec == \"BAND\":\n",
    "            ptype = \"o\"\n",
    "        else:\n",
    "            ptype = \"-\"\n",
    "\n",
    "        # ax.plot(reddened_star.data[cspec].waves, weights[cspec], 'k-')\n",
    "\n",
    "        # Observations\n",
    "        ax.plot(\n",
    "            reddened_star.data[cspec].waves,\n",
    "            reddened_star.data[cspec].fluxes / norm_data,\n",
    "            \"k\" + ptype,\n",
    "            label=\"data\",\n",
    "        )\n",
    "\n",
    "        # Intrinsic SED\n",
    "        ax.plot(\n",
    "            modinfo.waves[cspec], modsed[cspec] / norm_model, \"b\" + ptype, label=cspec\n",
    "        )\n",
    "        \n",
    "        # dust_extinguished sed\n",
    "        ax.plot(\n",
    "            modinfo.waves[cspec],\n",
    "            ext_modsed[cspec] / norm_model,\n",
    "            \"r\" + ptype,\n",
    "            label=cspec,\n",
    "        )\n",
    "        \n",
    "        # hi abs sed\n",
    "        ax.plot(\n",
    "            modinfo.waves[cspec],\n",
    "            hi_ext_modsed[cspec] / norm_model,\n",
    "            \"g\" + ptype,\n",
    "            label=cspec,\n",
    "        )\n",
    "\n",
    "    # finish configuring the plot\n",
    "    ax.set_ylim(8e4 / norm_model, 6e9 / norm_model)\n",
    "    ax.set_yscale(\"log\")\n",
    "    ax.set_xscale(\"log\")\n",
    "    ax.set_xlabel(r\"$\\lambda$ [$\\mu m$]\", fontsize=1.3 * fontsize)\n",
    "    ax.set_ylabel(r\"$F(\\lambda)$ [$ergs\\ cm^{-2}\\ s\\ \\AA$]\", fontsize=1.3 * fontsize)\n",
    "    ax.tick_params(\"both\", length=10, width=2, which=\"major\")\n",
    "    ax.tick_params(\"both\", length=5, width=1, which=\"minor\")\n",
    "\n",
    "    # ax.legend()\n",
    "\n",
    "    # use the whitespace better\n",
    "    fig.tight_layout()\n",
    "    \n",
    "    # pnames = [\"logT\",\"logg\",\"logZ\",\"Av\",\"Rv\",\"C2\",\"C3\",\"C4\",\"x0\",\"gamma\",\"HI_gal\",\"HI_mw\"]\n",
    "    logt_round = np.around(params[0], decimals=2)\n",
    "    logg_round = np.around(params[1], decimals=2)\n",
    "    av_round = np.around(params[3], decimals=2)\n",
    "    rv_round = np.around(params[4], decimals=2)\n",
    "    c2_round = np.around(params[5], decimals=2)\n",
    "    c3_round = np.around(params[6], decimals=2)\n",
    "    c4_round = np.around(params[7], decimals=2)\n",
    "    x0_round = np.around(params[8], decimals=2)\n",
    "    g_round = np.around(params[9], decimals=2)\n",
    "    print(\"Fig params are log(T)=%s, log(g)=%s, Av=%s\" % (params[0], params[1], params[3]))\n",
    "    \n",
    "    # Generate a name to record the star and its parameters\n",
    "    param_combo_str = \"_T_\" + str(logt_round)  + \"_g_\" + str(logg_round) + \\\n",
    "                \"_Av_\"  + str(av_round) + \"_Rv_\" + str(rv_round) + \"_c2_\" + \\\n",
    "                str(c2_round) + \"_c3_\" + str(c3_round) + \"_c4_\" + str(c4_round) + \"_x_\" + \\\n",
    "                str(x0_round) + \"_gamma_\" + str(g_round)\n",
    "    print(\"star\", starstr)\n",
    "    ax.set_title(starstr + param_combo_str, y=0.95)\n",
    "    if 'e6' in fstarname:\n",
    "        ax.set_xlim(0.1, 1)\n",
    "\n",
    "    plt.savefig(savefile_path + starstr + \"_spectra1\" + \".png\")\n",
    "#     plt.close()"
   ]
  },
  {
   "cell_type": "markdown",
   "id": "f975ea60",
   "metadata": {},
   "source": [
    "### Setup the fit parameters"
   ]
  },
  {
   "cell_type": "code",
   "execution_count": 50,
   "id": "b4f5976c",
   "metadata": {},
   "outputs": [],
   "source": [
    "def setparams(logt=4.25, logg=3.09, logz=0.0, av=0.75, rv=3.1, c2=2.5, c3=0.65, c4=0.26, \\\n",
    "              x0=4.66, g=0.86 , hig=21.0, himw=19.0):\n",
    "    \"\"\"\n",
    "    \"\"\"\n",
    "    # parameter names\n",
    "    pnames = [\"logT\",\"logg\",\"logZ\",\"Av\",\"Rv\",\"C2\",\"C3\",\"C4\",\"x0\",\"gamma\",\"HI_gal\",\"HI_mw\"]\n",
    "\n",
    "    # initial starting position\n",
    "    #  **customize for each star**\n",
    "    # SMC metallicity -> 0.2 (1/5 solar)\n",
    "    # Original params list\n",
    "    # params = [4.25, 3.09, 0.2, 0.75, 3.7, 2.5, 0.65, 0.26, 4.66, 0.86, 22.0, 19.0]\n",
    "\n",
    "    params = [logt, logg, logz, av, rv, c2, c3, c4, x0, g, hig, himw]\n",
    "\n",
    "    # min/max allowed values for each parameter\n",
    "    # some are based on the min/max of the stellar atmosphere grid\n",
    "    plimits = [\n",
    "            [modinfo.temps_min, modinfo.temps_max],  # log(Teff)\n",
    "            [modinfo.gravs_min, modinfo.gravs_max],  # log(g)\n",
    "            [modinfo.mets_min, modinfo.mets_max],    # log(Z)\n",
    "            [0.0, 4.0],   # Av\n",
    "            [2.0, 6.0],   # Rv\n",
    "            [-0.1, 5.0],  # C2\n",
    "            [0.0, 2.5],   # C3\n",
    "            [0.0, 1.0],   # C4\n",
    "            [4.5, 4.9],   # xo\n",
    "            [0.6, 1.5],   # gamma\n",
    "            [17.0, 24.0], # log(HI) internal to galaxy\n",
    "            [17.0, 22.0], # log(HI) MW foreground\n",
    "        ]\n",
    "\n",
    "    # add Gaussian priors based on prior knowledge\n",
    "    #  sptype -> log(Teff), log(g)\n",
    "    #  galaxy metallicity -> log(Z)\n",
    "    print(\"Priors are logT={}, logg={}, logZ={}\".format(logt, logg, logz))\n",
    "    ppriors = {}\n",
    "    ppriors[\"logT\"] = (logt, 0.1)\n",
    "    ppriors[\"logg\"] = (logg, 0.1)\n",
    "    ppriors[\"logZ\"] = (logz, 0.1)\n",
    "\n",
    "    return pnames, params, plimits, ppriors    "
   ]
  },
  {
   "cell_type": "markdown",
   "id": "6bae6f15",
   "metadata": {},
   "source": [
    "Package the fit info needed.  FitInfo class defines the likelihood functions as well."
   ]
  },
  {
   "cell_type": "code",
   "execution_count": 12,
   "id": "f6aa29d7",
   "metadata": {},
   "outputs": [],
   "source": [
    "def package_fitinfo(pnames, plimits, weights, ppriors, velocity):\n",
    "    \"\"\"\n",
    "    \"\"\"\n",
    "    ppriors=None\n",
    "    fitinfo = FitInfo(\n",
    "        pnames,\n",
    "        plimits,\n",
    "        weights,\n",
    "        parameter_priors=ppriors,\n",
    "        stellar_velocity=velocity,\n",
    "    )\n",
    "    return fitinfo"
   ]
  },
  {
   "cell_type": "markdown",
   "id": "sublime-hughes",
   "metadata": {},
   "source": [
    "#### Turn log(likelihood) into chi^2\n",
    "Needed since op.minimize searchs for the min chisqr (not max likelihood like MCMC algorithms)"
   ]
  },
  {
   "cell_type": "code",
   "execution_count": 49,
   "id": "7932407d",
   "metadata": {},
   "outputs": [],
   "source": [
    "def nll(*args):\n",
    "    return -fitinfo.lnprob(*args)\n",
    "\n",
    "# simple function to turn the log(likelihood) into the chisqr\n",
    "# requied as op.minimize function searchs for the minimum chisqr (not max likelihood like MCMC algorithms)\n",
    "def log_l_to_chi2(fitinfo, params, reddened_star, modinfo, method=\"Nelder-Mead\"): #, maxiter\n",
    "    \"\"\"\n",
    "    nll = function to be minimized\n",
    "    params = initial guess\n",
    "    method = type of solver\n",
    "    args = extra arguments passed to the fn to be minimized\n",
    "    \"\"\"\n",
    "\n",
    "    # run the fit\n",
    "    result = op.minimize(\n",
    "        nll, params, method=\"Nelder-Mead\", \n",
    "        args=(reddened_star, modinfo, fitinfo), options={\"maxiter\": 1000})\n",
    "    \n",
    "    # check the fit output\n",
    "    print(\"in log_l_to_chi2.\", result[\"message\"])\n",
    "    print(\"Success?\", result[\"success\"])\n",
    "    return result"
   ]
  },
  {
   "cell_type": "markdown",
   "id": "listed-party",
   "metadata": {},
   "source": [
    "### Save dust param results based on optimizer calc"
   ]
  },
  {
   "cell_type": "code",
   "execution_count": 64,
   "id": "e510ce95",
   "metadata": {},
   "outputs": [],
   "source": [
    "# save results\n",
    "def save_results(result, pnames):\n",
    "    \"\"\"\n",
    "    \"\"\"\n",
    "    params = result[\"x\"]\n",
    "    # print(\"\\n result in save_results()\", result[\"x\"])\n",
    "    fit_params = params\n",
    "    params_best = params\n",
    "    pnames_extra = pnames\n",
    "\n",
    "    # print the best fit\n",
    "    print(\"Printing the best fit\")\n",
    "    for k, val in enumerate(params_best):\n",
    "        print(\"{} # {}\".format(val, pnames_extra[k]))\n",
    "        \n",
    "    return params, fit_params, params_best, pnames_extra\n"
   ]
  },
  {
   "cell_type": "markdown",
   "id": "227e016a",
   "metadata": {},
   "source": [
    "#### Calculate and save the extinction curve"
   ]
  },
  {
   "cell_type": "code",
   "execution_count": 65,
   "id": "1fe42890",
   "metadata": {},
   "outputs": [],
   "source": [
    "def calc_plot_ext_curve(fit_params, velocity, relband, reddened_star, starname, params):\n",
    "    \"\"\"\n",
    "    \"\"\"\n",
    "    # intrinsic sed: log(T), log(g), Z, Av\n",
    "    modsed = modinfo.stellar_sed(fit_params[0:3], velocity=velocity)\n",
    "\n",
    "    # dust_extinguished sed: Av, etc.\n",
    "    ext_modsed = modinfo.dust_extinguished_sed(fit_params[3:10], modsed)\n",
    "\n",
    "    # hi_abs sed\n",
    "    hi_ext_modsed = modinfo.hi_abs_sed(\n",
    "        fit_params[10:12], [velocity, 0.0], ext_modsed\n",
    "    )\n",
    "\n",
    "    # create a StarData object for the best fit SED\n",
    "    modsed_stardata = modinfo.SED_to_StarData(modsed)\n",
    "\n",
    "    # create an extincion curve and save it\n",
    "    extdata = ExtData()\n",
    "    extdata.calc_elx(reddened_star, modsed_stardata, rel_band=relband)\n",
    "    col_info = {\"av\": fit_params[3], \"rv\": fit_params[4]}\n",
    "    extdata.save(\"extcurves/\" + starstr + \"_ext1.fits\", column_info=col_info)\n",
    "    print(\"extinction curve type\", extdata.type)\n",
    "    \n",
    "    \n",
    "    # =============== PLOT the extinction curve =========================\n",
    "    fig, ax = plt.subplots(figsize=(13, 10))\n",
    "\n",
    "    # convert from E(l-V) to A(l)/A(V)\n",
    "    # print(extdata.type_rel_band != \"V\")\n",
    "    extdata.columns[\"AV\"] = (params[3], 0.0)\n",
    "    # extdata.trans_elv_alav()\n",
    "    # extdata.trans_elv_elvebv()\n",
    "\n",
    "    extdata.plot(ax, color='deepskyblue')#, alax=True)\n",
    "    ax.set_xscale(\"log\")\n",
    "    ax.set_xlabel(r\"$\\lambda$ [$\\mu m$]\", fontsize=1.3 * fontsize)\n",
    "    # ax.set_ylim(0.0, 10.0)\n",
    "    ax.set_ylabel(fr\"$E(\\lambda$ - %s)\" % relband_str, fontsize=1.3 * fontsize)\n",
    "    ax.tick_params(\"both\", length=10, width=2, which=\"major\")\n",
    "    ax.tick_params(\"both\", length=5, width=1, which=\"minor\")\n",
    "\n",
    "    # plot known exitnction curves\n",
    "    mod_x = np.arange(0.3, 8.7, 0.1) / u.micron\n",
    "    smcbar = G03_SMCBar()\n",
    "    Af475wAv = smcbar(0.475 * u.micron)\n",
    "    smcbar_el475w = (smcbar(mod_x) - Af475wAv) * params[3]\n",
    "    ax.plot(1.0 / mod_x, smcbar_el475w, \"k:\")\n",
    "\n",
    "    f19_rv31 = F19(Rv=3.1)\n",
    "    Af475wAv = f19_rv31(0.475 * u.micron)\n",
    "    f19_el475w = (f19_rv31(mod_x) - Af475wAv) * params[3]\n",
    "    ax.plot(1.0 / mod_x, f19_el475w, \"k-\")\n",
    "\n",
    "    ax.set_title(\"%s\" % starname)\n",
    "    plt.savefig(savefile_path + starstr + \"_extcurve1\" + \".png\")\n",
    "    \n",
    "    return modsed, ext_modsed, hi_ext_modsed, modsed_stardata, extdata, col_info"
   ]
  },
  {
   "cell_type": "markdown",
   "id": "equal-height",
   "metadata": {},
   "source": [
    "### Set up parameter grid ranges"
   ]
  },
  {
   "cell_type": "code",
   "execution_count": 74,
   "id": "funded-recall",
   "metadata": {},
   "outputs": [
    {
     "name": "stdout",
     "output_type": "stream",
     "text": [
      "\n",
      "starname m31_e6_j004438.71+415553.5 \n",
      "\n",
      "log(T) [4.42]\n",
      "log(g) [2.85]\n",
      "log(Z) [0.0]\n",
      "Av [1.2]\n",
      "Rv [3.1]\n",
      "c2 [1.3]\n",
      "c3 [2.2]\n",
      "c4 [0.06]\n",
      "x0 [4.7]\n",
      "gamma [0.9]\n",
      "HI_gal [21.0]\n",
      "HI_MW [19.0]\n",
      "\n",
      "Run generates 1 combination(s)\n"
     ]
    }
   ],
   "source": [
    "singlevalued = True\n",
    "\n",
    "# initial starting position needs to be customized for each star\n",
    "# pnames = [\"logT\",\"logg\",\"logZ\",\"Av\",\"Rv\",\"C2\",\"C3\",\"C4\",\"x0\",\"gamma\",\"HI_gal\",\"HI_mw\"]\n",
    "    \n",
    "# c2 = UV slope\n",
    "# c3 = bump height\n",
    "# c4 = FUV curvature\n",
    "# x0 = bump centroid\n",
    "# gamma = bump width\n",
    "# log(HI) = MW HI column toward M31\n",
    "\n",
    "# Single valued grids, for a check\n",
    "# Can read in from .dat file as follows\n",
    "# e5start = np.fromfile(\"e5_start.dat\", dtype=\"float\", sep=\" \")\n",
    "\n",
    "if singlevalued:\n",
    "    print(\"\\nstarname\", starname, \"\\n\")\n",
    "    # Read in initial position from .dat file\n",
    "    initial_pos_file = \"initial_pos/\" + starstr + \"_start.dat\" \n",
    "    ipdata = np.fromfile(initial_pos_file, dtype=\"float\", sep=\" \")\n",
    "    if len(ipdata) < 12 or len(ipdata) > 12:\n",
    "        print(\"WARNING: Initial starting position data has fewer/more elements than expected.\")\n",
    "    \n",
    "#     for i in range(len(ipdata)):\n",
    "    logtgrid = [ipdata[0]]\n",
    "    logggrid = [ipdata[1]]\n",
    "    logzgrid = [ipdata[2]]\n",
    "    avgrid = [ipdata[3]]\n",
    "    rvgrid = [ipdata[4]]\n",
    "    c2grid = [ipdata[5]]\n",
    "    c3grid = [ipdata[6]]\n",
    "    c4grid = [ipdata[7]]\n",
    "    x0grid = [ipdata[8]]\n",
    "    gammagrid = [ipdata[9]]\n",
    "    hi_galgrid = [ipdata[10]]\n",
    "    hi_mwgrid = [ipdata[11]]\n",
    "        \n",
    "    \n",
    "    # This was an option when testing random single-valued arrays; uncomment if needed\n",
    "#     else:\n",
    "#         logtgrid = np.arange(4.5, 4.71, 0.1);        logggrid = np.arange(2.75, 2.8, 0.5)\n",
    "#         logzgrid = np.arange(-0.3, -0.4, 0.1);        avgrid = np.arange(1.7, 1.91, 0.1)\n",
    "#         rvgrid = np.arange(3.1, 3.2, 0.12);        c2grid = np.arange(1.3, 1.4, 0.1)\n",
    "#         c3grid = np.arange(2.1, 2.15, 0.1);        c4grid = np.arange(0.0, 0.06, 0.02) # 0.15, 0.35, 0.1\n",
    "#         x0grid = np.arange(4.75, 4.76, 0.1);        gammagrid = np.arange(0.9, 0.95, 0.05)\n",
    "    \n",
    "else:\n",
    "    logtgrid = np.arange(4.4, 4.43, 0.02);    logggrid = np.arange(2.75, 3., 0.5)\n",
    "    logzgrid = np.arange(-0.3, 0.4, 0.1);    avgrid = np.arange(1.2, 1.3, 0.05)\n",
    "    rvgrid = np.arange(3.1, 3.15, 0.1);    c2grid = np.arange(1.3, 1.4, 0.1) \n",
    "    c3grid = np.arange(2.2, 2.3, 0.1);    c4grid = np.arange(0.05, 0.075, 0.01)\n",
    "    x0grid = np.arange(4.65, 4.71, 0.05);    gammagrid = np.arange(0.9, 0.91, 0.05)\n",
    "    # higalgrid = np.arange()\n",
    "    # himwgrid = np.arange()\n",
    "    # logzgrid = np.arange(modinfo.mets_min, modinfo.mets_max, 0.5)\n",
    "\n",
    "print(\"log(T)\", logtgrid)\n",
    "print(\"log(g)\", logggrid)\n",
    "print(\"log(Z)\", logzgrid)\n",
    "print(\"Av\", avgrid)\n",
    "print(\"Rv\", rvgrid)\n",
    "print(\"c2\", c2grid)\n",
    "print(\"c3\", c3grid)\n",
    "print(\"c4\", c4grid)\n",
    "print(\"x0\", x0grid)\n",
    "print(\"gamma\", gammagrid)\n",
    "print(\"HI_gal\", hi_galgrid)\n",
    "print(\"HI_MW\", hi_mwgrid)\n",
    "\n",
    "n_comobs = len(logtgrid) * len(logggrid) * len(avgrid) * \\\n",
    "            len(c2grid) * len(c3grid) * len(c4grid) * len(x0grid) * \\\n",
    "            len(gammagrid) * len(rvgrid) * len(hi_galgrid) * len(hi_mwgrid)\n",
    "print(\"\\nRun generates %s combination(s)\" % n_comobs)"
   ]
  },
  {
   "cell_type": "markdown",
   "id": "increased-stereo",
   "metadata": {},
   "source": [
    "### Driver code calling all functions to calculate the extinction curve:\n",
    "#### 1. Sets weight arrays\n",
    "#### 2. Sets parameters\n",
    "#### 3. Packages fitinfo\n",
    "#### 4. log(likelihood) to the chisqr\n",
    "#### 5. Saves result and prints best fit from initial guess\n",
    "#### 6. Calculates extinction curve"
   ]
  },
  {
   "cell_type": "code",
   "execution_count": null,
   "id": "accompanied-chorus",
   "metadata": {},
   "outputs": [
    {
     "name": "stdout",
     "output_type": "stream",
     "text": [
      "star_str e6\n",
      "making new dir fit_/\n"
     ]
    },
    {
     "name": "stderr",
     "output_type": "stream",
     "text": [
      "/opt/miniconda3/envs/astroconda/lib/python3.7/site-packages/ipykernel_launcher.py:29: RuntimeWarning: divide by zero encountered in true_divide\n"
     ]
    },
    {
     "name": "stdout",
     "output_type": "stream",
     "text": [
      "weight arrays set\n",
      "Priors are logT=4.42, logg=2.85, logZ=0.0\n"
     ]
    },
    {
     "name": "stderr",
     "output_type": "stream",
     "text": [
      "/opt/miniconda3/envs/astroconda/lib/python3.7/site-packages/scipy/optimize/optimize.py:700: RuntimeWarning: invalid value encountered in subtract\n",
      "  np.max(np.abs(fsim[0] - fsim[1:])) <= fatol):\n"
     ]
    }
   ],
   "source": [
    "method=\"Nelder-Mead\"#\"Powell\" \n",
    "star_str = starname.split(\"m31_\")[1].split(\"_\")[0]\n",
    "print(\"star_str\", star_str)\n",
    "# outfolder = star_str + \"/\"\n",
    "outfolder = \"fit_/\"\n",
    "\n",
    "if not os.path.isdir(outfolder):\n",
    "    print(\"making new dir\", (outfolder))\n",
    "    os.system(\"mkdir \" + savefile_path + outfolder)\n",
    "# outfolder = outfolder + subfolder\n",
    "\n",
    "# Create weight arrays\n",
    "weights = set_weights(data_names, reddened_star)\n",
    "\n",
    "# params_grid = []\n",
    "for i in range(len(logtgrid)):\n",
    "    for j in range(len(logggrid)):\n",
    "        for k in range(len(avgrid)):\n",
    "            for l in range(len(c2grid)):\n",
    "                for m in range(len(c3grid)):\n",
    "                    for mn in range(len(c4grid)):\n",
    "                        for n in range(len(x0grid)):\n",
    "                            for o in range(len(gammagrid)):\n",
    "                                for p in range(len(rvgrid)):\n",
    "                                    pnames, \\\n",
    "                                    params, \\\n",
    "                                    plimits, \\\n",
    "                                    ppriors = setparams(logtgrid[i],\n",
    "                                                        logggrid[j],\n",
    "                                                        logzgrid[0],\n",
    "                                                        av=avgrid[k],\n",
    "                                                        rv=rvgrid[p],\n",
    "                                                        c2=c2grid[l], \n",
    "                                                        c3=c3grid[m],\n",
    "                                                        c4=c4grid[mn],\n",
    "                                                        x0=x0grid[n],\n",
    "                                                        g=gammagrid[o],\n",
    "                                                        hig=hi_galgrid[0], \n",
    "                                                        himw=hi_mwgrid[0])\n",
    "                                    \n",
    "                                    fitinfo = package_fitinfo(pnames, plimits, weights, ppriors, velocity)\n",
    "\n",
    "                                    # for e3 crashes with maxiter > 15\n",
    "                                    result = log_l_to_chi2(fitinfo, \n",
    "                                                           params, \n",
    "                                                           reddened_star, \n",
    "                                                           modinfo,\n",
    "                                                           method=method)\n",
    "\n",
    "                                    params, \\\n",
    "                                    fit_params, \\\n",
    "                                    params_best, \\\n",
    "                                    pnames_extra = save_results(result, pnames)\n",
    "                                    \n",
    "                                    modsed, \\\n",
    "                                    ext_modsed, \\\n",
    "                                    hi_ext_modsed, \\\n",
    "                                    modsed_stardata, \\\n",
    "                                    extdata, \\\n",
    "                                    col_info = calc_plot_ext_curve(fit_params, velocity, \n",
    "                                                              relband, reddened_star, \n",
    "                                                              starname, params)\n",
    "                                    \n",
    "                                    # Plot obs & mod spectra (based on initial guess), and save it\n",
    "                                    plot_spectra_with_mod(hi_ext_modsed, reddened_star, modsed, ext_modsed, \n",
    "                                                   modsed_stardata, starstr)\n",
    "                                    print('\\n\\n')"
   ]
  },
  {
   "cell_type": "markdown",
   "id": "8b4e9527",
   "metadata": {},
   "source": [
    "### Plot the extinction curve - not needed?"
   ]
  },
  {
   "cell_type": "code",
   "execution_count": 129,
   "id": "58a5acae",
   "metadata": {},
   "outputs": [
    {
     "name": "stdout",
     "output_type": "stream",
     "text": [
      "True\n"
     ]
    },
    {
     "data": {
      "image/png": "[encoded data removed]",
      "text/plain": [
       "<Figure size 936x720 with 1 Axes>"
      ]
     },
     "metadata": {
      "needs_background": "light"
     },
     "output_type": "display_data"
    }
   ],
   "source": [
    "# # Plotting the same as previous cell - not needed\n",
    "# fig, ax = plt.subplots(figsize=(13, 10))\n",
    "\n",
    "# # convert from E(l-V) to A(l)/A(V)\n",
    "# print(extdata.type_rel_band != \"V\")\n",
    "# # extdata.columns[\"AV\"] = (params[3], 0.0)\n",
    "# # extdata.trans_elv_alav()\n",
    "\n",
    "# extdata.plot(ax) #, alax=True)\n",
    "# ax.set_xscale(\"log\")\n",
    "# ax.set_xlabel(r\"$\\lambda$ [$\\mu m$]\", fontsize=1.3 * fontsize)\n",
    "# # ax.set_ylim(0.0, 10.0)\n",
    "# ax.set_ylabel(r\"$A(\\lambda)/A(V)$\", fontsize=1.3 * fontsize)\n",
    "# ax.tick_params(\"both\", length=10, width=2, which=\"major\")\n",
    "# ax.tick_params(\"both\", length=5, width=1, which=\"minor\")\n",
    "\n",
    "# # plot known exitnction curves\n",
    "# mod_x = np.arange(0.3, 8.7, 0.1) / u.micron\n",
    "# smcbar = G03_SMCBar()\n",
    "# Af475wAv = smcbar(0.475 * u.micron)\n",
    "# smcbar_el475w = (smcbar(mod_x) - Af475wAv) * params[3]\n",
    "# ax.plot(1.0 / mod_x, smcbar_el475w, \"k:\")\n",
    "\n",
    "# f19_rv31 = F19(Rv=3.1)\n",
    "# Af475wAv = f19_rv31(0.475 * u.micron)\n",
    "# f19_el475w = (f19_rv31(mod_x) - Af475wAv) * params[3]\n",
    "# ax.plot(1.0 / mod_x, f19_el475w, \"k-\")\n",
    "# ax.set_title(\"%s\" % starname)\n",
    "# plt.savefig(savefile_path + \"extcurve_\" + starname + \".png\")"
   ]
  },
  {
   "cell_type": "markdown",
   "id": "606f144a",
   "metadata": {},
   "source": [
    "### Run emcee MCMC sampler to define uncertainties (bonus section)"
   ]
  },
  {
   "cell_type": "code",
   "execution_count": 58,
   "id": "de6d727a",
   "metadata": {},
   "outputs": [
    {
     "name": "stdout",
     "output_type": "stream",
     "text": [
      "p0 [ 4.4   2.75  0.    2.    3.1   1.3   2.2   0.05  4.6   0.85 21.   19.  ]\n",
      "setting up sampler\n",
      "done setting up sampler\n"
     ]
    },
    {
     "ename": "ValueError",
     "evalue": "Initial state has a large condition number. Make sure that your walkers are linearly independent for the best performance",
     "output_type": "error",
     "traceback": [
      "\u001b[0;31m---------------------------------------------------------------------------\u001b[0m",
      "\u001b[0;31mValueError\u001b[0m                                Traceback (most recent call last)",
      "\u001b[0;32m<ipython-input-58-3d46d2a29c92>\u001b[0m in \u001b[0;36m<module>\u001b[0;34m\u001b[0m\n\u001b[1;32m     27\u001b[0m \u001b[0;34m\u001b[0m\u001b[0m\n\u001b[1;32m     28\u001b[0m \u001b[0;31m# burn in the walkers\u001b[0m\u001b[0;34m\u001b[0m\u001b[0;34m\u001b[0m\u001b[0;34m\u001b[0m\u001b[0m\n\u001b[0;32m---> 29\u001b[0;31m \u001b[0mpos\u001b[0m\u001b[0;34m,\u001b[0m \u001b[0mprob\u001b[0m\u001b[0;34m,\u001b[0m \u001b[0mstate\u001b[0m \u001b[0;34m=\u001b[0m \u001b[0msampler\u001b[0m\u001b[0;34m.\u001b[0m\u001b[0mrun_mcmc\u001b[0m\u001b[0;34m(\u001b[0m\u001b[0mp\u001b[0m\u001b[0;34m,\u001b[0m \u001b[0mburn\u001b[0m\u001b[0;34m)\u001b[0m\u001b[0;34m\u001b[0m\u001b[0;34m\u001b[0m\u001b[0m\n\u001b[0m\u001b[1;32m     30\u001b[0m \u001b[0;34m\u001b[0m\u001b[0m\n\u001b[1;32m     31\u001b[0m \u001b[0;31m# reset the sampler\u001b[0m\u001b[0;34m\u001b[0m\u001b[0;34m\u001b[0m\u001b[0;34m\u001b[0m\u001b[0m\n",
      "\u001b[0;32m/opt/miniconda3/envs/astroconda/lib/python3.7/site-packages/emcee/ensemble.py\u001b[0m in \u001b[0;36mrun_mcmc\u001b[0;34m(self, initial_state, nsteps, **kwargs)\u001b[0m\n\u001b[1;32m    436\u001b[0m \u001b[0;34m\u001b[0m\u001b[0m\n\u001b[1;32m    437\u001b[0m         \u001b[0mresults\u001b[0m \u001b[0;34m=\u001b[0m \u001b[0;32mNone\u001b[0m\u001b[0;34m\u001b[0m\u001b[0;34m\u001b[0m\u001b[0m\n\u001b[0;32m--> 438\u001b[0;31m         \u001b[0;32mfor\u001b[0m \u001b[0mresults\u001b[0m \u001b[0;32min\u001b[0m \u001b[0mself\u001b[0m\u001b[0;34m.\u001b[0m\u001b[0msample\u001b[0m\u001b[0;34m(\u001b[0m\u001b[0minitial_state\u001b[0m\u001b[0;34m,\u001b[0m \u001b[0miterations\u001b[0m\u001b[0;34m=\u001b[0m\u001b[0mnsteps\u001b[0m\u001b[0;34m,\u001b[0m \u001b[0;34m**\u001b[0m\u001b[0mkwargs\u001b[0m\u001b[0;34m)\u001b[0m\u001b[0;34m:\u001b[0m\u001b[0;34m\u001b[0m\u001b[0;34m\u001b[0m\u001b[0m\n\u001b[0m\u001b[1;32m    439\u001b[0m             \u001b[0;32mpass\u001b[0m\u001b[0;34m\u001b[0m\u001b[0;34m\u001b[0m\u001b[0m\n\u001b[1;32m    440\u001b[0m \u001b[0;34m\u001b[0m\u001b[0m\n",
      "\u001b[0;32m/opt/miniconda3/envs/astroconda/lib/python3.7/site-packages/emcee/ensemble.py\u001b[0m in \u001b[0;36msample\u001b[0;34m(self, initial_state, log_prob0, rstate0, blobs0, iterations, tune, skip_initial_state_check, thin_by, thin, store, progress)\u001b[0m\n\u001b[1;32m    308\u001b[0m         ):\n\u001b[1;32m    309\u001b[0m             raise ValueError(\n\u001b[0;32m--> 310\u001b[0;31m                 \u001b[0;34m\"Initial state has a large condition number. \"\u001b[0m\u001b[0;34m\u001b[0m\u001b[0;34m\u001b[0m\u001b[0m\n\u001b[0m\u001b[1;32m    311\u001b[0m                 \u001b[0;34m\"Make sure that your walkers are linearly independent for the \"\u001b[0m\u001b[0;34m\u001b[0m\u001b[0;34m\u001b[0m\u001b[0m\n\u001b[1;32m    312\u001b[0m                 \u001b[0;34m\"best performance\"\u001b[0m\u001b[0;34m\u001b[0m\u001b[0;34m\u001b[0m\u001b[0m\n",
      "\u001b[0;31mValueError\u001b[0m: Initial state has a large condition number. Make sure that your walkers are linearly independent for the best performance"
     ]
    }
   ],
   "source": [
    "importlib.reload(measure_extinction.utils.fit_model)\n",
    "from measure_extinction.utils.fit_model import get_best_fit_params\n",
    "\n",
    "p0 = params\n",
    "ndim = len(p0)\n",
    "print(\"p0\", p0)\n",
    "\n",
    "#nwalkers = 2 * ndim\n",
    "#nsteps = 50\n",
    "#burn = 50\n",
    "\n",
    "nwalkers = 100\n",
    "nsteps = 500 #10,000\n",
    "burn = 500\n",
    "\n",
    "# setting up the walkers to start \"near\" the inital guess\n",
    "p = [p0 * (1 + 0.01 * np.random.normal(0, 1.0, ndim)) for k in range(nwalkers)]\n",
    "\n",
    "# setup the sampler\n",
    "print(\"setting up sampler\")\n",
    "sampler = emcee.EnsembleSampler(\n",
    "    nwalkers, ndim, fitinfo.lnprob, args=(reddened_star, modinfo, fitinfo)\n",
    ")\n",
    "print(\"done setting up sampler\")\n",
    "\n",
    "# print(\"FITINFO\", fitinfo)\n",
    "\n",
    "# burn in the walkers\n",
    "pos, prob, state = sampler.run_mcmc(p, burn)\n",
    "\n",
    "# reset the sampler\n",
    "sampler.reset()\n",
    "\n",
    "# do the full sampling\n",
    "pos, prob, state = sampler.run_mcmc(pos, nsteps, rstate0=state)\n",
    "# print (\"pos\", pos)\n",
    "# print (\"prob\", prob)\n",
    "# print (\"state\", state)\n",
    "\n",
    "# create the samples variable for later use\n",
    "samples = sampler.chain.reshape((-1, ndim))\n",
    "print(\"len samples\", len(samples))\n",
    "\n",
    "# get the best fit values\n",
    "pnames_extra = pnames + [\"E(B-V)\", \"N(HI)/A(V)\", \"N(HI)/E(B-V)\"]\n",
    "params_best = get_best_fit_params(sampler)\n",
    "fit_params = params_best\n",
    "print(\"star\", starstr)\n",
    "print(\"best params\")\n",
    "print(params_best)\n",
    "\n",
    "# get the 16, 50, and 84 percentiles\n",
    "params_per = get_percentile_params(samples)\n",
    "for k, val in enumerate(params_per):\n",
    "    print(\n",
    "        \"{} {} {} {} # {}\".format(\n",
    "            params_best[k], val[0], val[1], val[2], pnames_extra[k]\n",
    "        )\n",
    "    )"
   ]
  },
  {
   "cell_type": "markdown",
   "id": "sorted-pencil",
   "metadata": {},
   "source": [
    "### Record best fit params + uncert. to dat file"
   ]
  },
  {
   "cell_type": "code",
   "execution_count": 24,
   "id": "wireless-secret",
   "metadata": {},
   "outputs": [
    {
     "name": "stdout",
     "output_type": "stream",
     "text": [
      "saving params...\n"
     ]
    }
   ],
   "source": [
    "# save the best fit and p50 +/- uncs values to a file\n",
    "# save as a single row table to provide a uniform format\n",
    "f = open(\"params_dat/\" + starstr + \"_fit_params.dat\", \"w\")\n",
    "#f.write(\"# best fit, p50, +unc, -unc\\n\")\n",
    "\n",
    "params_per = get_percentile_params(samples)\n",
    "\n",
    "print(\"saving params...\")\n",
    "for k, val in enumerate(params_per):\n",
    "    f.write(\n",
    "        \"{} {} {} {} # {}\\n\".format(\n",
    "           params_best[k], val[0], val[1], val[2], pnames_extra[k]\n",
    "        )\n",
    "    )"
   ]
  },
  {
   "cell_type": "markdown",
   "id": "foster-throat",
   "metadata": {},
   "source": [
    "### Calc & save ext curve with new best fit params\n",
    "#### (now fit_params = params; also params_best = params &  pnames_extra = pnames)"
   ]
  },
  {
   "cell_type": "code",
   "execution_count": 26,
   "id": "f8bb9262",
   "metadata": {},
   "outputs": [
    {
     "name": "stdout",
     "output_type": "stream",
     "text": [
      "[8.06748047e+09 8.00703575e+09 8.02372054e+09 ... 2.64965047e+08\n",
      " 2.67819187e+08 2.67396331e+08] erg / (Angstrom cm2 s)\n"
     ]
    }
   ],
   "source": [
    "# intrinsic sed\n",
    "modsed = modinfo.stellar_sed(fit_params[0:3], velocity=velocity)\n",
    "\n",
    "# dust_extinguished sed\n",
    "ext_modsed = modinfo.dust_extinguished_sed(fit_params[3:10], modsed)\n",
    "\n",
    "# hi_abs sed\n",
    "hi_ext_modsed = modinfo.hi_abs_sed(\n",
    "    fit_params[10:12], [velocity, 0.0], ext_modsed\n",
    ")\n",
    "\n",
    "# create a StarData object for the best fit SED\n",
    "modsed_stardata = modinfo.SED_to_StarData(modsed)\n",
    "\n",
    "# create an extincion curve and save it\n",
    "extdata = ExtData()\n",
    "extdata.calc_elx(reddened_star, modsed_stardata, rel_band=relband)\n",
    "col_info = {\"av\": fit_params[3], \"rv\": fit_params[4]}\n",
    "extdata.save(\"extcurves/\" + starstr + \"_ext.fits\", column_info=col_info)"
   ]
  },
  {
   "cell_type": "markdown",
   "id": "phantom-nutrition",
   "metadata": {},
   "source": [
    "### Plot new best-fit model spectra"
   ]
  },
  {
   "cell_type": "code",
   "execution_count": 36,
   "id": "ae17cbd0",
   "metadata": {},
   "outputs": [
    {
     "data": {
      "image/png": "[encoded data removed]",
      "text/plain": [
       "<Figure size 936x684 with 1 Axes>"
      ]
     },
     "metadata": {
      "needs_background": "light"
     },
     "output_type": "display_data"
    }
   ],
   "source": [
    "norm_model = np.average(hi_ext_modsed[\"BAND\"])\n",
    "norm_data = np.average(reddened_star.data[\"BAND\"].fluxes)\n",
    "\n",
    "# plotting setup for easier to read plots\n",
    "fontsize = 16\n",
    "font = {\"size\": fontsize}\n",
    "mpl.rc(\"font\", **font)\n",
    "mpl.rc(\"lines\", linewidth=1)\n",
    "mpl.rc(\"axes\", linewidth=2)\n",
    "mpl.rc(\"xtick.major\", width=2)\n",
    "mpl.rc(\"xtick.minor\", width=2)\n",
    "mpl.rc(\"ytick.major\", width=2)\n",
    "mpl.rc(\"ytick.minor\", width=2)\n",
    "\n",
    "# setup the plot\n",
    "fig, ax = plt.subplots(figsize=(13, 9.5))\n",
    "\n",
    "# plot the bands and all spectra for this star\n",
    "for cspec in modinfo.fluxes.keys():\n",
    "    if cspec == \"BAND\":\n",
    "        ptype = \"o\"\n",
    "    else:\n",
    "        ptype = \"-\"\n",
    "\n",
    "    # ax.plot(reddened_star.data[cspec].waves,\n",
    "    #        weights[cspec], 'k-')\n",
    "\n",
    "    ax.plot(\n",
    "        reddened_star.data[cspec].waves,\n",
    "        reddened_star.data[cspec].fluxes / norm_data,\n",
    "        \"k\" + ptype,\n",
    "        label=\"data\",\n",
    "    )\n",
    "\n",
    "    # print(reddened_star.data[cspec].waves)\n",
    "    # print(modinfo.waves[cspec])\n",
    "\n",
    "    ax.plot(\n",
    "        modinfo.waves[cspec], modsed[cspec] / norm_model, \"b\" + ptype, label=cspec\n",
    "    )\n",
    "    ax.plot(\n",
    "        modinfo.waves[cspec],\n",
    "        ext_modsed[cspec] / norm_model,\n",
    "        \"r\" + ptype,\n",
    "        label=cspec,\n",
    "    )\n",
    "    ax.plot(\n",
    "        modinfo.waves[cspec],\n",
    "        hi_ext_modsed[cspec] / norm_model,\n",
    "        \"g\" + ptype,\n",
    "        label=cspec,\n",
    "    )\n",
    "\n",
    "# finish configuring the plot\n",
    "ax.set_ylim(8e4 / norm_model, 6e9 / norm_model)\n",
    "ax.set_yscale(\"log\")\n",
    "ax.set_xscale(\"log\")\n",
    "ax.set_xlabel(r\"$\\lambda$ [$\\mu m$]\", fontsize=1.3 * fontsize)\n",
    "ax.set_ylabel(r\"$F(\\lambda)$ [$ergs\\ cm^{-2}\\ s\\ \\AA$]\", fontsize=1.3 * fontsize)\n",
    "ax.tick_params(\"both\", length=10, width=2, which=\"major\")\n",
    "ax.tick_params(\"both\", length=5, width=1, which=\"minor\")\n",
    "\n",
    "# ax.legend()\n",
    "\n",
    "# use the whitespace better\n",
    "# fig.tight_layout()\n",
    "plt.title(starname)\n",
    "plt.savefig(savefile_path + starstr + \"_spectra2\" + \".png\")"
   ]
  },
  {
   "cell_type": "markdown",
   "id": "exterior-premium",
   "metadata": {},
   "source": [
    "### Plot new best-fit extinction curve"
   ]
  },
  {
   "cell_type": "code",
   "execution_count": 34,
   "id": "f87bd609",
   "metadata": {},
   "outputs": [
    {
     "name": "stdout",
     "output_type": "stream",
     "text": [
      "True\n"
     ]
    },
    {
     "data": {
      "image/png": "[encoded data removed]",
      "text/plain": [
       "<Figure size 936x720 with 1 Axes>"
      ]
     },
     "metadata": {
      "needs_background": "light"
     },
     "output_type": "display_data"
    }
   ],
   "source": [
    "fig, ax = plt.subplots(figsize=(13, 10))\n",
    "\n",
    "# convert from E(l-V) to A(l)/A(V)\n",
    "print(extdata.type_rel_band != \"V\")\n",
    "extdata.columns[\"AV\"] = (params[3], 0.0)\n",
    "# extdata.trans_elv_alav()\n",
    "\n",
    "# def trans_elv_elvebv\n",
    "extdata.plot(ax) #, alax=True)\n",
    "ax.set_xscale(\"log\")\n",
    "ax.set_xlabel(r\"$\\lambda$ [$\\mu m$]\", fontsize=1.3 * fontsize)\n",
    "#ax.set_ylim(0.0, 10.0)\n",
    "# ax.set_ylabel(r\"$A(\\lambda)/A(V)$\", fontsize=1.3 * fontsize)\n",
    "ax.set_ylabel(fr\"$E(\\lambda$ - %s)\" % relband_str, fontsize=1.3 * fontsize)\n",
    "ax.tick_params(\"both\", length=10, width=2, which=\"major\")\n",
    "ax.tick_params(\"both\", length=5, width=1, which=\"minor\")\n",
    "\n",
    "# plot known exitnction curves\n",
    "mod_x = np.arange(0.3, 8.7, 0.1) / u.micron\n",
    "smcbar = G03_SMCBar()\n",
    "# ax.plot(1.0 / mod_x, smcbar(mod_x), \"k:\")\n",
    "Af475wAv = smcbar(0.475 * u.micron)\n",
    "smcbar_el475w = (smcbar(mod_x) - Af475wAv) * params[3]\n",
    "ax.plot(1.0 / mod_x, smcbar_el475w, \"k:\")\n",
    "\n",
    "f19_rv31 = F19(Rv=3.1)\n",
    "# ax.plot(1.0 / mod_x, f19_rv31(mod_x), \"k-\")\n",
    "# ax.set_xlim(0, 7.5)\n",
    "Af475wAv = f19_rv31(0.475 * u.micron)\n",
    "f19_el475w = (f19_rv31(mod_x) - Af475wAv) * params[3]\n",
    "ax.plot(1.0 / mod_x, f19_el475w, \"k-\")\n",
    "plt.title(starname)\n",
    "plt.savefig(savefile_path + starstr + \"_extcurve2\" + \".png\")\n"
   ]
  },
  {
   "cell_type": "code",
   "execution_count": null,
   "id": "0aca7182",
   "metadata": {},
   "outputs": [],
   "source": []
  }
 ],
 "metadata": {
  "kernelspec": {
   "display_name": "Python 3",
   "language": "python",
   "name": "python3"
  },
  "language_info": {
   "codemirror_mode": {
    "name": "ipython",
    "version": 3
   },
   "file_extension": ".py",
   "mimetype": "text/x-python",
   "name": "python",
   "nbconvert_exporter": "python",
   "pygments_lexer": "ipython3",
   "version": "3.7.9"
  }
 },
 "nbformat": 4,
 "nbformat_minor": 5
}
